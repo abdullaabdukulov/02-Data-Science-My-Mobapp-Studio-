{
 "cells": [
  {
   "cell_type": "code",
   "execution_count": 1,
   "id": "initial_id",
   "metadata": {
    "collapsed": true,
    "ExecuteTime": {
     "end_time": "2024-01-29T11:32:38.820244084Z",
     "start_time": "2024-01-29T11:32:01.632042700Z"
    }
   },
   "outputs": [
    {
     "name": "stdout",
     "output_type": "stream",
     "text": [
      "Requirement already satisfied: seaborn in ./venv/lib/python3.11/site-packages (0.13.2)\r\n",
      "Requirement already satisfied: numpy!=1.24.0,>=1.20 in ./venv/lib/python3.11/site-packages (from seaborn) (1.26.3)\r\n",
      "Requirement already satisfied: pandas>=1.2 in ./venv/lib/python3.11/site-packages (from seaborn) (2.2.0)\r\n",
      "Requirement already satisfied: matplotlib!=3.6.1,>=3.4 in ./venv/lib/python3.11/site-packages (from seaborn) (3.8.2)\r\n",
      "Requirement already satisfied: contourpy>=1.0.1 in ./venv/lib/python3.11/site-packages (from matplotlib!=3.6.1,>=3.4->seaborn) (1.2.0)\r\n",
      "Requirement already satisfied: cycler>=0.10 in ./venv/lib/python3.11/site-packages (from matplotlib!=3.6.1,>=3.4->seaborn) (0.12.1)\r\n",
      "Requirement already satisfied: fonttools>=4.22.0 in ./venv/lib/python3.11/site-packages (from matplotlib!=3.6.1,>=3.4->seaborn) (4.47.2)\r\n",
      "Requirement already satisfied: kiwisolver>=1.3.1 in ./venv/lib/python3.11/site-packages (from matplotlib!=3.6.1,>=3.4->seaborn) (1.4.5)\r\n",
      "Requirement already satisfied: packaging>=20.0 in ./venv/lib/python3.11/site-packages (from matplotlib!=3.6.1,>=3.4->seaborn) (23.2)\r\n",
      "Requirement already satisfied: pillow>=8 in ./venv/lib/python3.11/site-packages (from matplotlib!=3.6.1,>=3.4->seaborn) (10.2.0)\r\n",
      "Requirement already satisfied: pyparsing>=2.3.1 in ./venv/lib/python3.11/site-packages (from matplotlib!=3.6.1,>=3.4->seaborn) (3.1.1)\r\n",
      "Requirement already satisfied: python-dateutil>=2.7 in ./venv/lib/python3.11/site-packages (from matplotlib!=3.6.1,>=3.4->seaborn) (2.8.2)\r\n",
      "Requirement already satisfied: pytz>=2020.1 in ./venv/lib/python3.11/site-packages (from pandas>=1.2->seaborn) (2023.4)\r\n",
      "Requirement already satisfied: tzdata>=2022.7 in ./venv/lib/python3.11/site-packages (from pandas>=1.2->seaborn) (2023.4)\r\n",
      "Requirement already satisfied: six>=1.5 in ./venv/lib/python3.11/site-packages (from python-dateutil>=2.7->matplotlib!=3.6.1,>=3.4->seaborn) (1.16.0)\r\n",
      "Collecting plotly.express\r\n",
      "  Downloading plotly_express-0.4.1-py2.py3-none-any.whl (2.9 kB)\r\n",
      "Requirement already satisfied: pandas>=0.20.0 in ./venv/lib/python3.11/site-packages (from plotly.express) (2.2.0)\r\n",
      "Collecting plotly>=4.1.0 (from plotly.express)\r\n",
      "  Downloading plotly-5.18.0-py3-none-any.whl.metadata (7.0 kB)\r\n",
      "Collecting statsmodels>=0.9.0 (from plotly.express)\r\n",
      "  Downloading statsmodels-0.14.1-cp311-cp311-manylinux_2_17_x86_64.manylinux2014_x86_64.whl.metadata (9.5 kB)\r\n",
      "Collecting scipy>=0.18 (from plotly.express)\r\n",
      "  Downloading scipy-1.12.0-cp311-cp311-manylinux_2_17_x86_64.manylinux2014_x86_64.whl.metadata (60 kB)\r\n",
      "\u001B[2K     \u001B[90m━━━━━━━━━━━━━━━━━━━━━━━━━━━━━━━━━━━━━━━\u001B[0m \u001B[32m60.4/60.4 kB\u001B[0m \u001B[31m493.8 kB/s\u001B[0m eta \u001B[36m0:00:00\u001B[0ma \u001B[36m0:00:01\u001B[0m\r\n",
      "\u001B[?25hCollecting patsy>=0.5 (from plotly.express)\r\n",
      "  Downloading patsy-0.5.6-py2.py3-none-any.whl.metadata (3.5 kB)\r\n",
      "Requirement already satisfied: numpy>=1.11 in ./venv/lib/python3.11/site-packages (from plotly.express) (1.26.3)\r\n",
      "Requirement already satisfied: python-dateutil>=2.8.2 in ./venv/lib/python3.11/site-packages (from pandas>=0.20.0->plotly.express) (2.8.2)\r\n",
      "Requirement already satisfied: pytz>=2020.1 in ./venv/lib/python3.11/site-packages (from pandas>=0.20.0->plotly.express) (2023.4)\r\n",
      "Requirement already satisfied: tzdata>=2022.7 in ./venv/lib/python3.11/site-packages (from pandas>=0.20.0->plotly.express) (2023.4)\r\n",
      "Requirement already satisfied: six in ./venv/lib/python3.11/site-packages (from patsy>=0.5->plotly.express) (1.16.0)\r\n",
      "Collecting tenacity>=6.2.0 (from plotly>=4.1.0->plotly.express)\r\n",
      "  Downloading tenacity-8.2.3-py3-none-any.whl.metadata (1.0 kB)\r\n",
      "Requirement already satisfied: packaging in ./venv/lib/python3.11/site-packages (from plotly>=4.1.0->plotly.express) (23.2)\r\n",
      "Downloading patsy-0.5.6-py2.py3-none-any.whl (233 kB)\r\n",
      "\u001B[2K   \u001B[90m━━━━━━━━━━━━━━━━━━━━━━━━━━━━━━━━━━━━━━━━\u001B[0m \u001B[32m233.9/233.9 kB\u001B[0m \u001B[31m1.7 MB/s\u001B[0m eta \u001B[36m0:00:00\u001B[0ma \u001B[36m0:00:01\u001B[0m\r\n",
      "\u001B[?25hDownloading plotly-5.18.0-py3-none-any.whl (15.6 MB)\r\n",
      "\u001B[2K   \u001B[90m━━━━━━━━━━━━━━━━━━━━━━━━━━━━━━━━━━━━━━━━\u001B[0m \u001B[32m15.6/15.6 MB\u001B[0m \u001B[31m3.4 MB/s\u001B[0m eta \u001B[36m0:00:00\u001B[0m00:01\u001B[0m00:01\u001B[0m\r\n",
      "\u001B[?25hDownloading scipy-1.12.0-cp311-cp311-manylinux_2_17_x86_64.manylinux2014_x86_64.whl (38.4 MB)\r\n",
      "\u001B[2K   \u001B[90m━━━━━━━━━━━━━━━━━━━━━━━━━━━━━━━━━━━━━━━━\u001B[0m \u001B[32m38.4/38.4 MB\u001B[0m \u001B[31m3.1 MB/s\u001B[0m eta \u001B[36m0:00:00\u001B[0m00:01\u001B[0m00:01\u001B[0m\r\n",
      "\u001B[?25hDownloading statsmodels-0.14.1-cp311-cp311-manylinux_2_17_x86_64.manylinux2014_x86_64.whl (10.8 MB)\r\n",
      "\u001B[2K   \u001B[90m━━━━━━━━━━━━━━━━━━━━━━━━━━━━━━━━━━━━━━━━\u001B[0m \u001B[32m10.8/10.8 MB\u001B[0m \u001B[31m3.3 MB/s\u001B[0m eta \u001B[36m0:00:00\u001B[0m00:01\u001B[0m00:01\u001B[0m\r\n",
      "\u001B[?25hDownloading tenacity-8.2.3-py3-none-any.whl (24 kB)\r\n",
      "Installing collected packages: tenacity, scipy, patsy, plotly, statsmodels, plotly.express\r\n",
      "Successfully installed patsy-0.5.6 plotly-5.18.0 plotly.express-0.4.1 scipy-1.12.0 statsmodels-0.14.1 tenacity-8.2.3\r\n"
     ]
    }
   ],
   "source": [
    "!pip install seaborn\n",
    "!pip install plotly.express"
   ]
  },
  {
   "cell_type": "code",
   "execution_count": 2,
   "outputs": [],
   "source": [
    "import pandas as pd\n",
    "import matplotlib.pyplot as plt\n",
    "import seaborn as sns\n",
    "import plotly.express as px\n",
    "import warnings\n",
    "warnings.filterwarnings('ignore')"
   ],
   "metadata": {
    "collapsed": false,
    "ExecuteTime": {
     "end_time": "2024-01-29T11:33:29.726717021Z",
     "start_time": "2024-01-29T11:33:29.349139435Z"
    }
   },
   "id": "5ec0876bd0ac83de"
  },
  {
   "cell_type": "code",
   "execution_count": 14,
   "outputs": [],
   "source": [
    "def load_dataset(csvfile):\n",
    "    return pd.read_csv(csvfile)\n",
    "dataset = load_dataset('googleplaystore.csv')"
   ],
   "metadata": {
    "collapsed": false,
    "ExecuteTime": {
     "end_time": "2024-01-29T11:37:39.601125765Z",
     "start_time": "2024-01-29T11:37:39.557517175Z"
    }
   },
   "id": "484ee54f0dc51112"
  },
  {
   "cell_type": "code",
   "execution_count": 15,
   "outputs": [
    {
     "name": "stdout",
     "output_type": "stream",
     "text": [
      "The shape of dataset is (10841, 13)\n",
      "            Rating\n",
      "count  9367.000000\n",
      "mean      4.193338\n",
      "std       0.537431\n",
      "min       1.000000\n",
      "25%       4.000000\n",
      "50%       4.300000\n",
      "75%       4.500000\n",
      "max      19.000000 \n",
      "\n",
      "                                                 App        Category  Rating  \\\n",
      "0     Photo Editor & Candy Camera & Grid & ScrapBook  ART_AND_DESIGN     4.1   \n",
      "1                                Coloring book moana  ART_AND_DESIGN     3.9   \n",
      "2  U Launcher Lite – FREE Live Cool Themes, Hide ...  ART_AND_DESIGN     4.7   \n",
      "3                              Sketch - Draw & Paint  ART_AND_DESIGN     4.5   \n",
      "4              Pixel Draw - Number Art Coloring Book  ART_AND_DESIGN     4.3   \n",
      "\n",
      "  Reviews  Size     Installs  Type Price Content Rating  \\\n",
      "0     159   19M      10,000+  Free     0       Everyone   \n",
      "1     967   14M     500,000+  Free     0       Everyone   \n",
      "2   87510  8.7M   5,000,000+  Free     0       Everyone   \n",
      "3  215644   25M  50,000,000+  Free     0           Teen   \n",
      "4     967  2.8M     100,000+  Free     0       Everyone   \n",
      "\n",
      "                      Genres      Last Updated         Current Ver  \\\n",
      "0               Art & Design   January 7, 2018               1.0.0   \n",
      "1  Art & Design;Pretend Play  January 15, 2018               2.0.0   \n",
      "2               Art & Design    August 1, 2018               1.2.4   \n",
      "3               Art & Design      June 8, 2018  Varies with device   \n",
      "4    Art & Design;Creativity     June 20, 2018                 1.1   \n",
      "\n",
      "    Android Ver  \n",
      "0  4.0.3 and up  \n",
      "1  4.0.3 and up  \n",
      "2  4.0.3 and up  \n",
      "3    4.2 and up  \n",
      "4    4.4 and up   \n",
      "\n",
      "<class 'pandas.core.frame.DataFrame'>\n",
      "RangeIndex: 10841 entries, 0 to 10840\n",
      "Data columns (total 13 columns):\n",
      " #   Column          Non-Null Count  Dtype  \n",
      "---  ------          --------------  -----  \n",
      " 0   App             10841 non-null  object \n",
      " 1   Category        10841 non-null  object \n",
      " 2   Rating          9367 non-null   float64\n",
      " 3   Reviews         10841 non-null  object \n",
      " 4   Size            10841 non-null  object \n",
      " 5   Installs        10841 non-null  object \n",
      " 6   Type            10840 non-null  object \n",
      " 7   Price           10841 non-null  object \n",
      " 8   Content Rating  10840 non-null  object \n",
      " 9   Genres          10841 non-null  object \n",
      " 10  Last Updated    10841 non-null  object \n",
      " 11  Current Ver     10833 non-null  object \n",
      " 12  Android Ver     10838 non-null  object \n",
      "dtypes: float64(1), object(12)\n",
      "memory usage: 1.1+ MB\n",
      "None\n"
     ]
    }
   ],
   "source": [
    "def print_summarize_dataset(dataset):\n",
    "    print('The shape of dataset is', dataset.shape)\n",
    "    print(dataset.describe(), '\\n')\n",
    "    print(dataset.head(), '\\n')\n",
    "    print(dataset.info())\n",
    "print_summarize_dataset(dataset)"
   ],
   "metadata": {
    "collapsed": false,
    "ExecuteTime": {
     "end_time": "2024-01-29T11:37:40.044134281Z",
     "start_time": "2024-01-29T11:37:40.022162130Z"
    }
   },
   "id": "d1dc467dfdd0e30c"
  },
  {
   "cell_type": "code",
   "execution_count": 181,
   "outputs": [
    {
     "data": {
      "text/plain": "                                                 App        Category  Rating  \\\n0     Photo Editor & Candy Camera & Grid & ScrapBook  ART_AND_DESIGN     4.1   \n1                                Coloring book moana  ART_AND_DESIGN     3.9   \n2  U Launcher Lite – FREE Live Cool Themes Hide Apps  ART_AND_DESIGN     4.7   \n3                              Sketch - Draw & Paint  ART_AND_DESIGN     4.5   \n4              Pixel Draw - Number Art Coloring Book  ART_AND_DESIGN     4.3   \n5                         Paper flowers instructions  ART_AND_DESIGN     4.4   \n6            Smoke Effect Photo Maker - Smoke Editor  ART_AND_DESIGN     3.8   \n7                                   Infinite Painter  ART_AND_DESIGN     4.1   \n8                               Garden Coloring Book  ART_AND_DESIGN     4.4   \n9                      Kids Paint Free - Drawing Fun  ART_AND_DESIGN     4.7   \n\n   Reviews  Size  Installs  Type  Price Content Rating  \\\n0      159  19.0     10000  Free    0.0       Everyone   \n1      967  14.0    500000  Free    0.0       Everyone   \n2    87510   8.7   5000000  Free    0.0       Everyone   \n3   215644  25.0  50000000  Free    0.0           Teen   \n4      967   2.8    100000  Free    0.0       Everyone   \n5      167   5.6     50000  Free    0.0       Everyone   \n6      178  19.0     50000  Free    0.0       Everyone   \n7    36815  29.0   1000000  Free    0.0       Everyone   \n8    13791  33.0   1000000  Free    0.0       Everyone   \n9      121   3.1     10000  Free    0.0       Everyone   \n\n                      Genres Last Updated    Popularity  \n0               Art & Design   2018-01-07  6.519000e+15  \n1  Art & Design Pretend Play   2018-01-15  1.885650e+18  \n2               Art & Design   2018-08-01  2.056485e+21  \n3               Art & Design   2018-06-08  4.851990e+22  \n4    Art & Design Creativity   2018-06-20  4.158100e+17  \n5               Art & Design   2017-03-26  3.674000e+16  \n6               Art & Design   2018-04-26  3.382000e+16  \n7               Art & Design   2018-06-14  1.509415e+20  \n8               Art & Design   2017-09-20  6.068040e+19  \n9    Art & Design Creativity   2018-07-03  5.687000e+15  ",
      "text/html": "<div>\n<style scoped>\n    .dataframe tbody tr th:only-of-type {\n        vertical-align: middle;\n    }\n\n    .dataframe tbody tr th {\n        vertical-align: top;\n    }\n\n    .dataframe thead th {\n        text-align: right;\n    }\n</style>\n<table border=\"1\" class=\"dataframe\">\n  <thead>\n    <tr style=\"text-align: right;\">\n      <th></th>\n      <th>App</th>\n      <th>Category</th>\n      <th>Rating</th>\n      <th>Reviews</th>\n      <th>Size</th>\n      <th>Installs</th>\n      <th>Type</th>\n      <th>Price</th>\n      <th>Content Rating</th>\n      <th>Genres</th>\n      <th>Last Updated</th>\n      <th>Popularity</th>\n    </tr>\n  </thead>\n  <tbody>\n    <tr>\n      <th>0</th>\n      <td>Photo Editor &amp; Candy Camera &amp; Grid &amp; ScrapBook</td>\n      <td>ART_AND_DESIGN</td>\n      <td>4.1</td>\n      <td>159</td>\n      <td>19.0</td>\n      <td>10000</td>\n      <td>Free</td>\n      <td>0.0</td>\n      <td>Everyone</td>\n      <td>Art &amp; Design</td>\n      <td>2018-01-07</td>\n      <td>6.519000e+15</td>\n    </tr>\n    <tr>\n      <th>1</th>\n      <td>Coloring book moana</td>\n      <td>ART_AND_DESIGN</td>\n      <td>3.9</td>\n      <td>967</td>\n      <td>14.0</td>\n      <td>500000</td>\n      <td>Free</td>\n      <td>0.0</td>\n      <td>Everyone</td>\n      <td>Art &amp; Design Pretend Play</td>\n      <td>2018-01-15</td>\n      <td>1.885650e+18</td>\n    </tr>\n    <tr>\n      <th>2</th>\n      <td>U Launcher Lite – FREE Live Cool Themes Hide Apps</td>\n      <td>ART_AND_DESIGN</td>\n      <td>4.7</td>\n      <td>87510</td>\n      <td>8.7</td>\n      <td>5000000</td>\n      <td>Free</td>\n      <td>0.0</td>\n      <td>Everyone</td>\n      <td>Art &amp; Design</td>\n      <td>2018-08-01</td>\n      <td>2.056485e+21</td>\n    </tr>\n    <tr>\n      <th>3</th>\n      <td>Sketch - Draw &amp; Paint</td>\n      <td>ART_AND_DESIGN</td>\n      <td>4.5</td>\n      <td>215644</td>\n      <td>25.0</td>\n      <td>50000000</td>\n      <td>Free</td>\n      <td>0.0</td>\n      <td>Teen</td>\n      <td>Art &amp; Design</td>\n      <td>2018-06-08</td>\n      <td>4.851990e+22</td>\n    </tr>\n    <tr>\n      <th>4</th>\n      <td>Pixel Draw - Number Art Coloring Book</td>\n      <td>ART_AND_DESIGN</td>\n      <td>4.3</td>\n      <td>967</td>\n      <td>2.8</td>\n      <td>100000</td>\n      <td>Free</td>\n      <td>0.0</td>\n      <td>Everyone</td>\n      <td>Art &amp; Design Creativity</td>\n      <td>2018-06-20</td>\n      <td>4.158100e+17</td>\n    </tr>\n    <tr>\n      <th>5</th>\n      <td>Paper flowers instructions</td>\n      <td>ART_AND_DESIGN</td>\n      <td>4.4</td>\n      <td>167</td>\n      <td>5.6</td>\n      <td>50000</td>\n      <td>Free</td>\n      <td>0.0</td>\n      <td>Everyone</td>\n      <td>Art &amp; Design</td>\n      <td>2017-03-26</td>\n      <td>3.674000e+16</td>\n    </tr>\n    <tr>\n      <th>6</th>\n      <td>Smoke Effect Photo Maker - Smoke Editor</td>\n      <td>ART_AND_DESIGN</td>\n      <td>3.8</td>\n      <td>178</td>\n      <td>19.0</td>\n      <td>50000</td>\n      <td>Free</td>\n      <td>0.0</td>\n      <td>Everyone</td>\n      <td>Art &amp; Design</td>\n      <td>2018-04-26</td>\n      <td>3.382000e+16</td>\n    </tr>\n    <tr>\n      <th>7</th>\n      <td>Infinite Painter</td>\n      <td>ART_AND_DESIGN</td>\n      <td>4.1</td>\n      <td>36815</td>\n      <td>29.0</td>\n      <td>1000000</td>\n      <td>Free</td>\n      <td>0.0</td>\n      <td>Everyone</td>\n      <td>Art &amp; Design</td>\n      <td>2018-06-14</td>\n      <td>1.509415e+20</td>\n    </tr>\n    <tr>\n      <th>8</th>\n      <td>Garden Coloring Book</td>\n      <td>ART_AND_DESIGN</td>\n      <td>4.4</td>\n      <td>13791</td>\n      <td>33.0</td>\n      <td>1000000</td>\n      <td>Free</td>\n      <td>0.0</td>\n      <td>Everyone</td>\n      <td>Art &amp; Design</td>\n      <td>2017-09-20</td>\n      <td>6.068040e+19</td>\n    </tr>\n    <tr>\n      <th>9</th>\n      <td>Kids Paint Free - Drawing Fun</td>\n      <td>ART_AND_DESIGN</td>\n      <td>4.7</td>\n      <td>121</td>\n      <td>3.1</td>\n      <td>10000</td>\n      <td>Free</td>\n      <td>0.0</td>\n      <td>Everyone</td>\n      <td>Art &amp; Design Creativity</td>\n      <td>2018-07-03</td>\n      <td>5.687000e+15</td>\n    </tr>\n  </tbody>\n</table>\n</div>"
     },
     "execution_count": 181,
     "metadata": {},
     "output_type": "execute_result"
    }
   ],
   "source": [
    "def clean_dataset(df):\n",
    "    filter = {'\"': '', ',': '', ';': ' ', 'Everyone 10+': 'Everyone', 'Adults only 18+': 'Adults only', 'Mature 17+': 'Mature', 'Varies with device': 'NaN', 'Unrated': 'NaN', 'and up': ''}\n",
    "    df.dropna(inplace=True)\n",
    "    df.replace(filter, inplace=True, regex=True)\n",
    "    df['Size'].replace({'M': '', 'K': ''}, inplace=True, regex=True)\n",
    "    df['Reviews'] = df['Reviews'].astype(int)\n",
    "    df['Content Rating'] = df['Content Rating'].str.replace('+', '')\n",
    "    \n",
    "    try: \n",
    "        df['Size'] = df['Size'].str.replace('k', 000).astype(float)\n",
    "    except:\n",
    "        df['Size'] = df['Size'].replace('k', 000).astype(float)\n",
    "    try:\n",
    "        df['Installs'] = df['Installs'].str.replace('+', '').astype(int)\n",
    "    except:\n",
    "        df['Installs'] = df['Installs'].replace('+', '').astype(int)\n",
    "        \n",
    "    try:\n",
    "        df.drop(['Current Ver', 'Android Ver'], axis=1, inplace=True)\n",
    "    except:\n",
    "        pass\n",
    "    \n",
    "    try:\n",
    "        df['Price'] = df['Price'].str.replace('$', '')\n",
    "    except:\n",
    "        df['Price'] = df['Price'].replace('$', '')\n",
    "    \n",
    "    df.drop_duplicates(inplace=True)\n",
    "    df['Last Updated'] = pd.to_datetime(df['Last Updated'])\n",
    "    df['Rating'] = df['Rating'].astype(float)\n",
    "    df['Price'] = df['Price'].astype(float)\n",
    "    df['Popularity'] = df.Rating *10**7  * df.Reviews *10**2 * df.Installs\n",
    "    return df\n",
    "df = clean_dataset(dataset)\n",
    "df.head(10)"
   ],
   "metadata": {
    "collapsed": false,
    "ExecuteTime": {
     "end_time": "2024-01-29T13:49:25.774562689Z",
     "start_time": "2024-01-29T13:49:25.519950318Z"
    }
   },
   "id": "ed5944823049b709"
  },
  {
   "cell_type": "code",
   "execution_count": 182,
   "outputs": [
    {
     "data": {
      "text/plain": "<Figure size 800x900 with 2 Axes>",
      "image/png": "[encoded data removed]"
     },
     "metadata": {},
     "output_type": "display_data"
    }
   ],
   "source": [
    "def compute_correlations_matrix(dataset):\n",
    "    plt.figure(figsize=(8, 9))\n",
    "    sns.heatmap(data=dataset.corr(), annot=True, cmap=\"YlGnBu\", linewidths=1)\n",
    "    return plt.show()\n",
    "\n",
    "df2 = df[['Rating', 'Reviews', 'Size', 'Installs', 'Price', 'Popularity']]\n",
    "df2.corr()\n",
    "compute_correlations_matrix(df2)"
   ],
   "metadata": {
    "collapsed": false,
    "ExecuteTime": {
     "end_time": "2024-01-29T13:49:27.173551776Z",
     "start_time": "2024-01-29T13:49:26.888533905Z"
    }
   },
   "id": "969199a36fd90db"
  },
  {
   "cell_type": "code",
   "execution_count": 257,
   "outputs": [],
   "source": [
    "class Visualize():\n",
    "    def __init__(self, data):\n",
    "        df = data\n",
    "    \n",
    "    def most_bar(self, x,data=df):\n",
    "        cat_count = data[x].value_counts().reset_index()\n",
    "        cat_count.columns = [x, 'Count']\n",
    "        \n",
    "        bar = px.bar(data_frame=cat_count, x=x, y='Count', color='Count')\n",
    "        bar.update_layout(width=900, height=600)\n",
    "        bar.show()\n",
    "    \n",
    "    def hist(self, x, color, log, data=df):\n",
    "        fig = px.histogram(data_frame=data, x=x, color=color, log_y=log, nbins=50)\n",
    "        fig.update_layout(width=700, height=600)\n",
    "        fig.show()\n",
    "        \n",
    "    def rating_bar(self, x, y, color, data=df):\n",
    "        \n",
    "        fig = px.bar(data_frame=data, x=x, y=y, color=color)\n",
    "        fig.show()"
   ],
   "metadata": {
    "collapsed": false,
    "ExecuteTime": {
     "end_time": "2024-01-29T14:22:53.074696414Z",
     "start_time": "2024-01-29T14:22:53.049125407Z"
    }
   },
   "id": "352066c5a5cd6b65"
  },
  {
   "cell_type": "code",
   "execution_count": 259,
   "outputs": [],
   "source": [
    "obj = Visualize(df)\n",
    "# obj.most_bar('Category')\n",
    "# obj.hist('Reviews', 'Type', True)\n",
    "# obj.hist('Rating', 'Type', False)\n",
    "# obj.rating_bar('Category', 'Rating', 'Rating')\n",
    "\n",
    "\n",
    "# rating_bar = df.groupby('Category')['Rating'].mean()\n",
    "# rating_bar = rating_bar[rating_bar > 4]\n",
    "# obj.rating_bar(rating_bar.index, 'Rating', 'Rating', data=rating_bar)"
   ],
   "metadata": {
    "collapsed": false,
    "ExecuteTime": {
     "end_time": "2024-01-29T14:23:22.885438734Z",
     "start_time": "2024-01-29T14:23:22.871818718Z"
    }
   },
   "id": "7caf2cdbfc55ca64"
  },
  {
   "cell_type": "code",
   "execution_count": 250,
   "outputs": [],
   "source": [],
   "metadata": {
    "collapsed": false,
    "ExecuteTime": {
     "end_time": "2024-01-29T14:20:41.010445277Z",
     "start_time": "2024-01-29T14:20:40.997496700Z"
    }
   },
   "id": "1c625dfe1cd9b63"
  },
  {
   "cell_type": "code",
   "execution_count": 259,
   "outputs": [],
   "source": [],
   "metadata": {
    "collapsed": false,
    "ExecuteTime": {
     "end_time": "2024-01-29T14:23:25.914487140Z",
     "start_time": "2024-01-29T14:23:25.903184848Z"
    }
   },
   "id": "dc87bae93398c54"
  },
  {
   "cell_type": "markdown",
   "source": [
    "df2"
   ],
   "metadata": {
    "collapsed": false
   },
   "id": "24384d77fea802b3"
  }
 ],
 "metadata": {
  "kernelspec": {
   "display_name": "Python 3",
   "language": "python",
   "name": "python3"
  },
  "language_info": {
   "codemirror_mode": {
    "name": "ipython",
    "version": 2
   },
   "file_extension": ".py",
   "mimetype": "text/x-python",
   "name": "python",
   "nbconvert_exporter": "python",
   "pygments_lexer": "ipython2",
   "version": "2.7.6"
  }
 },
 "nbformat": 4,
 "nbformat_minor": 5
}
