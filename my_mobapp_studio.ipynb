{
 "cells": [
  {
   "cell_type": "code",
   "execution_count": 2,
   "id": "651486b3-7bf3-46fb-945a-9bc4398a460b",
   "metadata": {},
   "outputs": [
    {
     "name": "stdout",
     "output_type": "stream",
     "text": [
      "Collecting plotly\n",
      "  Downloading plotly-5.15.0-py2.py3-none-any.whl (15.5 MB)\n",
      "     |████████████████████████████████| 15.5 MB 4.8 MB/s            \n",
      "\u001b[?25hCollecting tenacity>=6.2.0\n",
      "  Downloading tenacity-8.2.2-py3-none-any.whl (24 kB)\n",
      "Requirement already satisfied: packaging in /home/docode/.pyenv/versions/3.6.7/lib/python3.6/site-packages (from plotly) (21.3)\n",
      "Requirement already satisfied: pyparsing!=3.0.5,>=2.0.2 in /home/docode/.pyenv/versions/3.6.7/lib/python3.6/site-packages (from packaging->plotly) (3.0.7)\n",
      "Installing collected packages: tenacity, plotly\n",
      "Successfully installed plotly-5.15.0 tenacity-8.2.2\n"
     ]
    }
   ],
   "source": [
    "!pip install plotly"
   ]
  },
  {
   "cell_type": "code",
   "execution_count": 3,
   "id": "dbd3db15",
   "metadata": {},
   "outputs": [
    {
     "name": "stdout",
     "output_type": "stream",
     "text": [
      "Collecting seaborn\n",
      "  Downloading seaborn-0.11.2-py3-none-any.whl (292 kB)\n",
      "     |████████████████████████████████| 292 kB 16.3 MB/s            \n",
      "\u001b[?25hRequirement already satisfied: scipy>=1.0 in /home/docode/.pyenv/versions/3.6.7/lib/python3.6/site-packages (from seaborn) (1.5.4)\n",
      "Requirement already satisfied: numpy>=1.15 in /home/docode/.pyenv/versions/3.6.7/lib/python3.6/site-packages (from seaborn) (1.19.5)\n",
      "Requirement already satisfied: matplotlib>=2.2 in /home/docode/.pyenv/versions/3.6.7/lib/python3.6/site-packages (from seaborn) (3.3.4)\n",
      "Requirement already satisfied: pandas>=0.23 in /home/docode/.pyenv/versions/3.6.7/lib/python3.6/site-packages (from seaborn) (1.1.5)\n",
      "Requirement already satisfied: cycler>=0.10 in /home/docode/.pyenv/versions/3.6.7/lib/python3.6/site-packages (from matplotlib>=2.2->seaborn) (0.11.0)\n",
      "Requirement already satisfied: pyparsing!=2.0.4,!=2.1.2,!=2.1.6,>=2.0.3 in /home/docode/.pyenv/versions/3.6.7/lib/python3.6/site-packages (from matplotlib>=2.2->seaborn) (3.0.7)\n",
      "Requirement already satisfied: kiwisolver>=1.0.1 in /home/docode/.pyenv/versions/3.6.7/lib/python3.6/site-packages (from matplotlib>=2.2->seaborn) (1.3.1)\n",
      "Requirement already satisfied: pillow>=6.2.0 in /home/docode/.pyenv/versions/3.6.7/lib/python3.6/site-packages (from matplotlib>=2.2->seaborn) (8.4.0)\n",
      "Requirement already satisfied: python-dateutil>=2.1 in /home/docode/.pyenv/versions/3.6.7/lib/python3.6/site-packages (from matplotlib>=2.2->seaborn) (2.8.2)\n",
      "Requirement already satisfied: pytz>=2017.2 in /home/docode/.pyenv/versions/3.6.7/lib/python3.6/site-packages (from pandas>=0.23->seaborn) (2022.5)\n",
      "Requirement already satisfied: six>=1.5 in /home/docode/.pyenv/versions/3.6.7/lib/python3.6/site-packages (from python-dateutil>=2.1->matplotlib>=2.2->seaborn) (1.16.0)\n",
      "Installing collected packages: seaborn\n",
      "Successfully installed seaborn-0.11.2\n"
     ]
    }
   ],
   "source": [
    "!pip install seaborn"
   ]
  },
  {
   "cell_type": "markdown",
   "id": "b4afbaae",
   "metadata": {},
   "source": [
    "# Libraryis"
   ]
  },
  {
   "cell_type": "code",
   "execution_count": 4,
   "id": "fe0ea364",
   "metadata": {},
   "outputs": [],
   "source": [
    "import plotly.express as px\n",
    "import pandas as pd\n",
    "import matplotlib.pyplot as plt\n",
    "import seaborn as sns\n",
    "import warnings\n",
    "warnings.filterwarnings(\"ignore\")"
   ]
  },
  {
   "cell_type": "markdown",
   "id": "ed446f6a",
   "metadata": {},
   "source": [
    "# Load dataset"
   ]
  },
  {
   "cell_type": "code",
   "execution_count": 5,
   "id": "aa3d928d",
   "metadata": {},
   "outputs": [],
   "source": [
    "def load_dataset():\n",
    "    return pd.read_csv(\"googleplaystore.csv\")\n",
    "data = load_dataset()"
   ]
  },
  {
   "cell_type": "markdown",
   "id": "6f8a19c0",
   "metadata": {},
   "source": [
    "# Print_summarize_dataset"
   ]
  },
  {
   "cell_type": "code",
   "execution_count": 6,
   "id": "583dd40c",
   "metadata": {},
   "outputs": [],
   "source": [
    "def print_summarize_dataset(df):\n",
    "    shapes = df.shape\n",
    "    first_lines = df.head(10)\n",
    "    statitsdic_df = df.describe()\n",
    "    return f\"its shape: {shapes}\\n\\nits 10 first lines: \\n{first_lines}\\n\\n\\nits statistical summary:\\n{statitsdic_df}\""
   ]
  },
  {
   "cell_type": "code",
   "execution_count": 7,
   "id": "17d0cf81",
   "metadata": {},
   "outputs": [
    {
     "name": "stdout",
     "output_type": "stream",
     "text": [
      "its shape: (10841, 13)\n",
      "\n",
      "its 10 first lines: \n",
      "                                                 App        Category  Rating  \\\n",
      "0     Photo Editor & Candy Camera & Grid & ScrapBook  ART_AND_DESIGN     4.1   \n",
      "1                                Coloring book moana  ART_AND_DESIGN     3.9   \n",
      "2  U Launcher Lite – FREE Live Cool Themes, Hide ...  ART_AND_DESIGN     4.7   \n",
      "3                              Sketch - Draw & Paint  ART_AND_DESIGN     4.5   \n",
      "4              Pixel Draw - Number Art Coloring Book  ART_AND_DESIGN     4.3   \n",
      "5                         Paper flowers instructions  ART_AND_DESIGN     4.4   \n",
      "6            Smoke Effect Photo Maker - Smoke Editor  ART_AND_DESIGN     3.8   \n",
      "7                                   Infinite Painter  ART_AND_DESIGN     4.1   \n",
      "8                               Garden Coloring Book  ART_AND_DESIGN     4.4   \n",
      "9                      Kids Paint Free - Drawing Fun  ART_AND_DESIGN     4.7   \n",
      "\n",
      "  Reviews  Size     Installs  Type Price Content Rating  \\\n",
      "0     159   19M      10,000+  Free     0       Everyone   \n",
      "1     967   14M     500,000+  Free     0       Everyone   \n",
      "2   87510  8.7M   5,000,000+  Free     0       Everyone   \n",
      "3  215644   25M  50,000,000+  Free     0           Teen   \n",
      "4     967  2.8M     100,000+  Free     0       Everyone   \n",
      "5     167  5.6M      50,000+  Free     0       Everyone   \n",
      "6     178   19M      50,000+  Free     0       Everyone   \n",
      "7   36815   29M   1,000,000+  Free     0       Everyone   \n",
      "8   13791   33M   1,000,000+  Free     0       Everyone   \n",
      "9     121  3.1M      10,000+  Free     0       Everyone   \n",
      "\n",
      "                      Genres        Last Updated         Current Ver  \\\n",
      "0               Art & Design     January 7, 2018               1.0.0   \n",
      "1  Art & Design;Pretend Play    January 15, 2018               2.0.0   \n",
      "2               Art & Design      August 1, 2018               1.2.4   \n",
      "3               Art & Design        June 8, 2018  Varies with device   \n",
      "4    Art & Design;Creativity       June 20, 2018                 1.1   \n",
      "5               Art & Design      March 26, 2017                 1.0   \n",
      "6               Art & Design      April 26, 2018                 1.1   \n",
      "7               Art & Design       June 14, 2018            6.1.61.1   \n",
      "8               Art & Design  September 20, 2017               2.9.2   \n",
      "9    Art & Design;Creativity        July 3, 2018                 2.8   \n",
      "\n",
      "    Android Ver  \n",
      "0  4.0.3 and up  \n",
      "1  4.0.3 and up  \n",
      "2  4.0.3 and up  \n",
      "3    4.2 and up  \n",
      "4    4.4 and up  \n",
      "5    2.3 and up  \n",
      "6  4.0.3 and up  \n",
      "7    4.2 and up  \n",
      "8    3.0 and up  \n",
      "9  4.0.3 and up  \n",
      "\n",
      "\n",
      "its statistical summary:\n",
      "            Rating\n",
      "count  9367.000000\n",
      "mean      4.193338\n",
      "std       0.537431\n",
      "min       1.000000\n",
      "25%       4.000000\n",
      "50%       4.300000\n",
      "75%       4.500000\n",
      "max      19.000000\n"
     ]
    }
   ],
   "source": [
    "print(print_summarize_dataset(data))\n"
   ]
  },
  {
   "cell_type": "markdown",
   "id": "79f4763a",
   "metadata": {},
   "source": [
    "# Clean_dataset"
   ]
  },
  {
   "cell_type": "code",
   "execution_count": 8,
   "id": "e2216f85",
   "metadata": {},
   "outputs": [],
   "source": [
    "def clean_dataset(dataset):\n",
    "    # droping the duplicated apps from the data.\n",
    "    dataset.drop_duplicates(subset='App', inplace=True) \n",
    "    \n",
    "    # cleaning Installs\n",
    "    # removing free apps\n",
    "     # converting installs column to intger type.\n",
    "    dataset.Installs = dataset.Installs.str.replace('+', '').str.replace(',', '')\n",
    "    dataset = dataset[dataset['Installs'] != 'Free']\n",
    "    dataset.Installs = dataset.Installs.astype(int)\n",
    "    \n",
    "    # cleaning Size\n",
    "    # replacing 'Varies with device' sizes to 'NaN'.\n",
    "    # removing M from size items if the size was by megabytes.\n",
    "    # converting sizes column to float type.\n",
    "    dataset['Size'] = dataset['Size'].apply(lambda x: float(str(x).replace('k', '')) / 1000 if 'k' in str(x) else x) \n",
    "    dataset.Size = dataset.Size.str.replace('M', '').str.replace('Varies with device', 'NaN').str.replace(',', '').astype(float)\n",
    "\n",
    "    # cleaning Price \n",
    "    # removing $ sing from price items.\n",
    "    # converting prices column to float type.\n",
    "    dataset.Price = dataset.Price.str.replace('$', '').astype('float')\n",
    "\n",
    "    # cleaning Reviews\n",
    "     # converting installs column to intger type.\n",
    "    dataset['Reviews'] = dataset['Reviews'].astype('int')\n",
    "    \n",
    "    # balancing or normalizing\n",
    "    dataset['Popularity'] = (dataset.Rating*10**7 * dataset.Reviews*10**2 * dataset.Installs)/10**18 \n",
    "    \n",
    "    # dropping needless columns.\n",
    "    dataset.drop(['Current Ver', 'Android Ver'], axis=1, inplace=True)\n",
    "    return dataset"
   ]
  },
  {
   "cell_type": "code",
   "execution_count": 9,
   "id": "b56946e1",
   "metadata": {},
   "outputs": [],
   "source": [
    "df2 = clean_dataset(data)\n"
   ]
  },
  {
   "cell_type": "code",
   "execution_count": 10,
   "id": "119cb052",
   "metadata": {},
   "outputs": [
    {
     "data": {
      "text/html": [
       "<div>\n",
       "<style scoped>\n",
       "    .dataframe tbody tr th:only-of-type {\n",
       "        vertical-align: middle;\n",
       "    }\n",
       "\n",
       "    .dataframe tbody tr th {\n",
       "        vertical-align: top;\n",
       "    }\n",
       "\n",
       "    .dataframe thead th {\n",
       "        text-align: right;\n",
       "    }\n",
       "</style>\n",
       "<table border=\"1\" class=\"dataframe\">\n",
       "  <thead>\n",
       "    <tr style=\"text-align: right;\">\n",
       "      <th></th>\n",
       "      <th>App</th>\n",
       "      <th>Category</th>\n",
       "      <th>Rating</th>\n",
       "      <th>Reviews</th>\n",
       "      <th>Size</th>\n",
       "      <th>Installs</th>\n",
       "      <th>Type</th>\n",
       "      <th>Price</th>\n",
       "      <th>Content Rating</th>\n",
       "      <th>Genres</th>\n",
       "      <th>Last Updated</th>\n",
       "      <th>Popularity</th>\n",
       "    </tr>\n",
       "  </thead>\n",
       "  <tbody>\n",
       "    <tr>\n",
       "      <th>0</th>\n",
       "      <td>Photo Editor &amp; Candy Camera &amp; Grid &amp; ScrapBook</td>\n",
       "      <td>ART_AND_DESIGN</td>\n",
       "      <td>4.1</td>\n",
       "      <td>159</td>\n",
       "      <td>19.0</td>\n",
       "      <td>10000</td>\n",
       "      <td>Free</td>\n",
       "      <td>0.0</td>\n",
       "      <td>Everyone</td>\n",
       "      <td>Art &amp; Design</td>\n",
       "      <td>January 7, 2018</td>\n",
       "      <td>0.006519</td>\n",
       "    </tr>\n",
       "    <tr>\n",
       "      <th>1</th>\n",
       "      <td>Coloring book moana</td>\n",
       "      <td>ART_AND_DESIGN</td>\n",
       "      <td>3.9</td>\n",
       "      <td>967</td>\n",
       "      <td>14.0</td>\n",
       "      <td>500000</td>\n",
       "      <td>Free</td>\n",
       "      <td>0.0</td>\n",
       "      <td>Everyone</td>\n",
       "      <td>Art &amp; Design;Pretend Play</td>\n",
       "      <td>January 15, 2018</td>\n",
       "      <td>1.885650</td>\n",
       "    </tr>\n",
       "    <tr>\n",
       "      <th>2</th>\n",
       "      <td>U Launcher Lite – FREE Live Cool Themes, Hide ...</td>\n",
       "      <td>ART_AND_DESIGN</td>\n",
       "      <td>4.7</td>\n",
       "      <td>87510</td>\n",
       "      <td>8.7</td>\n",
       "      <td>5000000</td>\n",
       "      <td>Free</td>\n",
       "      <td>0.0</td>\n",
       "      <td>Everyone</td>\n",
       "      <td>Art &amp; Design</td>\n",
       "      <td>August 1, 2018</td>\n",
       "      <td>2056.485000</td>\n",
       "    </tr>\n",
       "    <tr>\n",
       "      <th>3</th>\n",
       "      <td>Sketch - Draw &amp; Paint</td>\n",
       "      <td>ART_AND_DESIGN</td>\n",
       "      <td>4.5</td>\n",
       "      <td>215644</td>\n",
       "      <td>25.0</td>\n",
       "      <td>50000000</td>\n",
       "      <td>Free</td>\n",
       "      <td>0.0</td>\n",
       "      <td>Teen</td>\n",
       "      <td>Art &amp; Design</td>\n",
       "      <td>June 8, 2018</td>\n",
       "      <td>48519.900000</td>\n",
       "    </tr>\n",
       "    <tr>\n",
       "      <th>4</th>\n",
       "      <td>Pixel Draw - Number Art Coloring Book</td>\n",
       "      <td>ART_AND_DESIGN</td>\n",
       "      <td>4.3</td>\n",
       "      <td>967</td>\n",
       "      <td>2.8</td>\n",
       "      <td>100000</td>\n",
       "      <td>Free</td>\n",
       "      <td>0.0</td>\n",
       "      <td>Everyone</td>\n",
       "      <td>Art &amp; Design;Creativity</td>\n",
       "      <td>June 20, 2018</td>\n",
       "      <td>0.415810</td>\n",
       "    </tr>\n",
       "    <tr>\n",
       "      <th>5</th>\n",
       "      <td>Paper flowers instructions</td>\n",
       "      <td>ART_AND_DESIGN</td>\n",
       "      <td>4.4</td>\n",
       "      <td>167</td>\n",
       "      <td>5.6</td>\n",
       "      <td>50000</td>\n",
       "      <td>Free</td>\n",
       "      <td>0.0</td>\n",
       "      <td>Everyone</td>\n",
       "      <td>Art &amp; Design</td>\n",
       "      <td>March 26, 2017</td>\n",
       "      <td>0.036740</td>\n",
       "    </tr>\n",
       "    <tr>\n",
       "      <th>6</th>\n",
       "      <td>Smoke Effect Photo Maker - Smoke Editor</td>\n",
       "      <td>ART_AND_DESIGN</td>\n",
       "      <td>3.8</td>\n",
       "      <td>178</td>\n",
       "      <td>19.0</td>\n",
       "      <td>50000</td>\n",
       "      <td>Free</td>\n",
       "      <td>0.0</td>\n",
       "      <td>Everyone</td>\n",
       "      <td>Art &amp; Design</td>\n",
       "      <td>April 26, 2018</td>\n",
       "      <td>0.033820</td>\n",
       "    </tr>\n",
       "    <tr>\n",
       "      <th>7</th>\n",
       "      <td>Infinite Painter</td>\n",
       "      <td>ART_AND_DESIGN</td>\n",
       "      <td>4.1</td>\n",
       "      <td>36815</td>\n",
       "      <td>29.0</td>\n",
       "      <td>1000000</td>\n",
       "      <td>Free</td>\n",
       "      <td>0.0</td>\n",
       "      <td>Everyone</td>\n",
       "      <td>Art &amp; Design</td>\n",
       "      <td>June 14, 2018</td>\n",
       "      <td>150.941500</td>\n",
       "    </tr>\n",
       "    <tr>\n",
       "      <th>8</th>\n",
       "      <td>Garden Coloring Book</td>\n",
       "      <td>ART_AND_DESIGN</td>\n",
       "      <td>4.4</td>\n",
       "      <td>13791</td>\n",
       "      <td>33.0</td>\n",
       "      <td>1000000</td>\n",
       "      <td>Free</td>\n",
       "      <td>0.0</td>\n",
       "      <td>Everyone</td>\n",
       "      <td>Art &amp; Design</td>\n",
       "      <td>September 20, 2017</td>\n",
       "      <td>60.680400</td>\n",
       "    </tr>\n",
       "    <tr>\n",
       "      <th>9</th>\n",
       "      <td>Kids Paint Free - Drawing Fun</td>\n",
       "      <td>ART_AND_DESIGN</td>\n",
       "      <td>4.7</td>\n",
       "      <td>121</td>\n",
       "      <td>3.1</td>\n",
       "      <td>10000</td>\n",
       "      <td>Free</td>\n",
       "      <td>0.0</td>\n",
       "      <td>Everyone</td>\n",
       "      <td>Art &amp; Design;Creativity</td>\n",
       "      <td>July 3, 2018</td>\n",
       "      <td>0.005687</td>\n",
       "    </tr>\n",
       "  </tbody>\n",
       "</table>\n",
       "</div>"
      ],
      "text/plain": [
       "                                                 App        Category  Rating  \\\n",
       "0     Photo Editor & Candy Camera & Grid & ScrapBook  ART_AND_DESIGN     4.1   \n",
       "1                                Coloring book moana  ART_AND_DESIGN     3.9   \n",
       "2  U Launcher Lite – FREE Live Cool Themes, Hide ...  ART_AND_DESIGN     4.7   \n",
       "3                              Sketch - Draw & Paint  ART_AND_DESIGN     4.5   \n",
       "4              Pixel Draw - Number Art Coloring Book  ART_AND_DESIGN     4.3   \n",
       "5                         Paper flowers instructions  ART_AND_DESIGN     4.4   \n",
       "6            Smoke Effect Photo Maker - Smoke Editor  ART_AND_DESIGN     3.8   \n",
       "7                                   Infinite Painter  ART_AND_DESIGN     4.1   \n",
       "8                               Garden Coloring Book  ART_AND_DESIGN     4.4   \n",
       "9                      Kids Paint Free - Drawing Fun  ART_AND_DESIGN     4.7   \n",
       "\n",
       "   Reviews  Size  Installs  Type  Price Content Rating  \\\n",
       "0      159  19.0     10000  Free    0.0       Everyone   \n",
       "1      967  14.0    500000  Free    0.0       Everyone   \n",
       "2    87510   8.7   5000000  Free    0.0       Everyone   \n",
       "3   215644  25.0  50000000  Free    0.0           Teen   \n",
       "4      967   2.8    100000  Free    0.0       Everyone   \n",
       "5      167   5.6     50000  Free    0.0       Everyone   \n",
       "6      178  19.0     50000  Free    0.0       Everyone   \n",
       "7    36815  29.0   1000000  Free    0.0       Everyone   \n",
       "8    13791  33.0   1000000  Free    0.0       Everyone   \n",
       "9      121   3.1     10000  Free    0.0       Everyone   \n",
       "\n",
       "                      Genres        Last Updated    Popularity  \n",
       "0               Art & Design     January 7, 2018      0.006519  \n",
       "1  Art & Design;Pretend Play    January 15, 2018      1.885650  \n",
       "2               Art & Design      August 1, 2018   2056.485000  \n",
       "3               Art & Design        June 8, 2018  48519.900000  \n",
       "4    Art & Design;Creativity       June 20, 2018      0.415810  \n",
       "5               Art & Design      March 26, 2017      0.036740  \n",
       "6               Art & Design      April 26, 2018      0.033820  \n",
       "7               Art & Design       June 14, 2018    150.941500  \n",
       "8               Art & Design  September 20, 2017     60.680400  \n",
       "9    Art & Design;Creativity        July 3, 2018      0.005687  "
      ]
     },
     "execution_count": 10,
     "metadata": {},
     "output_type": "execute_result"
    }
   ],
   "source": [
    "df2.head(10)"
   ]
  },
  {
   "cell_type": "code",
   "execution_count": 11,
   "id": "415b0e20",
   "metadata": {},
   "outputs": [
    {
     "name": "stdout",
     "output_type": "stream",
     "text": [
      "The original state of the data\n",
      "App                object\n",
      "Category           object\n",
      "Rating            float64\n",
      "Reviews            object\n",
      "Size               object\n",
      "Installs           object\n",
      "Type               object\n",
      "Price              object\n",
      "Content Rating     object\n",
      "Genres             object\n",
      "Last Updated       object\n",
      "Current Ver        object\n",
      "Android Ver        object\n",
      "dtype: object\n"
     ]
    }
   ],
   "source": [
    "print('The original state of the data')\n",
    "print(data.dtypes)"
   ]
  },
  {
   "cell_type": "code",
   "execution_count": 12,
   "id": "f6ecb383",
   "metadata": {},
   "outputs": [
    {
     "name": "stdout",
     "output_type": "stream",
     "text": [
      "Clear data status\n",
      "App                object\n",
      "Category           object\n",
      "Rating            float64\n",
      "Reviews             int64\n",
      "Size              float64\n",
      "Installs            int64\n",
      "Type               object\n",
      "Price             float64\n",
      "Content Rating     object\n",
      "Genres             object\n",
      "Last Updated       object\n",
      "Popularity        float64\n",
      "dtype: object\n"
     ]
    }
   ],
   "source": [
    "print('Clear data status')\n",
    "print(df2.dtypes)"
   ]
  },
  {
   "cell_type": "code",
   "execution_count": 13,
   "id": "44149990",
   "metadata": {},
   "outputs": [
    {
     "data": {
      "image/png": "[encoded data removed]",
      "text/plain": [
       "<Figure size 432x288 with 1 Axes>"
      ]
     },
     "metadata": {
      "needs_background": "light"
     },
     "output_type": "display_data"
    },
    {
     "data": {
      "image/png": "[encoded data removed]",
      "text/plain": [
       "<Figure size 432x288 with 1 Axes>"
      ]
     },
     "metadata": {
      "needs_background": "light"
     },
     "output_type": "display_data"
    },
    {
     "data": {
      "image/png": "[encoded data removed]",
      "text/plain": [
       "<Figure size 432x288 with 1 Axes>"
      ]
     },
     "metadata": {
      "needs_background": "light"
     },
     "output_type": "display_data"
    },
    {
     "data": {
      "image/png": "[encoded data removed]",
      "text/plain": [
       "<Figure size 432x288 with 1 Axes>"
      ]
     },
     "metadata": {
      "needs_background": "light"
     },
     "output_type": "display_data"
    },
    {
     "data": {
      "image/png": "[encoded data removed]",
      "text/plain": [
       "<Figure size 432x288 with 1 Axes>"
      ]
     },
     "metadata": {
      "needs_background": "light"
     },
     "output_type": "display_data"
    }
   ],
   "source": [
    "def print_histograms(dataset):\n",
    "    plt.title(\"Rating\")\n",
    "    plt.hist(dataset[\"Rating\"])\n",
    "    plt.text(2.7, 4150, 'The highest indicator')\n",
    "    plt.grid(True)\n",
    "    plt.show()\n",
    "    plt.title(\"Reviews\")\n",
    "    plt.hist(dataset[\"Reviews\"])\n",
    "    plt.grid(True)\n",
    "    plt.show()\n",
    "    plt.title(\"Size\")\n",
    "    plt.hist(dataset[\"Size\"])\n",
    "    plt.grid(True)\n",
    "    plt.show()\n",
    "    plt.title(\"Installs\")\n",
    "    plt.hist(dataset[\"Installs\"])\n",
    "    plt.grid(True)\n",
    "    plt.show()\n",
    "    plt.title(\"Price\")\n",
    "    plt.hist(dataset[\"Price\"])\n",
    "    plt.grid(True)\n",
    "    plt.show()\n",
    "print_histograms(data)"
   ]
  },
  {
   "cell_type": "code",
   "execution_count": 14,
   "id": "90a444f2",
   "metadata": {},
   "outputs": [],
   "source": [
    "def compute_correlations_matrix(dataset):\n",
    "    plt.figure(figsize=(10, 10))\n",
    "    sns.heatmap(dataset.corr(), annot=True, cmap=\"YlOrRd\", linewidths=0.1, annot_kws={\"fontsize\":10})\n",
    "    plt.title(\"Correlation house prices - return rate\")\n",
    "    return plt.show()"
   ]
  },
  {
   "cell_type": "code",
   "execution_count": 15,
   "id": "378ba620",
   "metadata": {},
   "outputs": [
    {
     "data": {
      "image/png": "[encoded data removed]",
      "text/plain": [
       "<Figure size 720x720 with 2 Axes>"
      ]
     },
     "metadata": {
      "needs_background": "light"
     },
     "output_type": "display_data"
    }
   ],
   "source": [
    "compute_correlations_matrix(df2)"
   ]
  },
  {
   "cell_type": "code",
   "execution_count": 18,
   "id": "0c63c1e1",
   "metadata": {},
   "outputs": [
    {
     "name": "stdout",
     "output_type": "stream",
     "text": [
      "its shape: (10358, 13)\n",
      "\n",
      "its 10 first lines: \n",
      "                                                 App        Category  Rating  \\\n",
      "0     Photo Editor & Candy Camera & Grid & ScrapBook  ART_AND_DESIGN     4.1   \n",
      "1                                Coloring book moana  ART_AND_DESIGN     3.9   \n",
      "2  U Launcher Lite – FREE Live Cool Themes, Hide ...  ART_AND_DESIGN     4.7   \n",
      "3                              Sketch - Draw & Paint  ART_AND_DESIGN     4.5   \n",
      "4              Pixel Draw - Number Art Coloring Book  ART_AND_DESIGN     4.3   \n",
      "5                         Paper flowers instructions  ART_AND_DESIGN     4.4   \n",
      "6            Smoke Effect Photo Maker - Smoke Editor  ART_AND_DESIGN     3.8   \n",
      "7                                   Infinite Painter  ART_AND_DESIGN     4.1   \n",
      "8                               Garden Coloring Book  ART_AND_DESIGN     4.4   \n",
      "9                      Kids Paint Free - Drawing Fun  ART_AND_DESIGN     4.7   \n",
      "\n",
      "  Reviews  Size     Installs  Type Price Content Rating  \\\n",
      "0     159   19M      10,000+  Free     0       Everyone   \n",
      "1     967   14M     500,000+  Free     0       Everyone   \n",
      "2   87510  8.7M   5,000,000+  Free     0       Everyone   \n",
      "3  215644   25M  50,000,000+  Free     0           Teen   \n",
      "4     967  2.8M     100,000+  Free     0       Everyone   \n",
      "5     167  5.6M      50,000+  Free     0       Everyone   \n",
      "6     178   19M      50,000+  Free     0       Everyone   \n",
      "7   36815   29M   1,000,000+  Free     0       Everyone   \n",
      "8   13791   33M   1,000,000+  Free     0       Everyone   \n",
      "9     121  3.1M      10,000+  Free     0       Everyone   \n",
      "\n",
      "                      Genres        Last Updated         Current Ver  \\\n",
      "0               Art & Design     January 7, 2018               1.0.0   \n",
      "1  Art & Design;Pretend Play    January 15, 2018               2.0.0   \n",
      "2               Art & Design      August 1, 2018               1.2.4   \n",
      "3               Art & Design        June 8, 2018  Varies with device   \n",
      "4    Art & Design;Creativity       June 20, 2018                 1.1   \n",
      "5               Art & Design      March 26, 2017                 1.0   \n",
      "6               Art & Design      April 26, 2018                 1.1   \n",
      "7               Art & Design       June 14, 2018            6.1.61.1   \n",
      "8               Art & Design  September 20, 2017               2.9.2   \n",
      "9    Art & Design;Creativity        July 3, 2018                 2.8   \n",
      "\n",
      "    Android Ver  \n",
      "0  4.0.3 and up  \n",
      "1  4.0.3 and up  \n",
      "2  4.0.3 and up  \n",
      "3    4.2 and up  \n",
      "4    4.4 and up  \n",
      "5    2.3 and up  \n",
      "6  4.0.3 and up  \n",
      "7    4.2 and up  \n",
      "8    3.0 and up  \n",
      "9  4.0.3 and up  \n",
      "\n",
      "\n",
      "its statistical summary:\n",
      "            Rating\n",
      "count  8893.000000\n",
      "mean      4.189542\n",
      "std       0.545452\n",
      "min       1.000000\n",
      "25%       4.000000\n",
      "50%       4.300000\n",
      "75%       4.500000\n",
      "max      19.000000\n",
      "The original state of the data\n",
      "App                object\n",
      "Category           object\n",
      "Rating            float64\n",
      "Reviews            object\n",
      "Size               object\n",
      "Installs           object\n",
      "Type               object\n",
      "Price              object\n",
      "Content Rating     object\n",
      "Genres             object\n",
      "Last Updated       object\n",
      "Current Ver        object\n",
      "Android Ver        object\n",
      "dtype: object\n",
      "Clear data status\n",
      "App                object\n",
      "Category           object\n",
      "Rating            float64\n",
      "Reviews             int64\n",
      "Size              float64\n",
      "Installs            int64\n",
      "Type               object\n",
      "Price             float64\n",
      "Content Rating     object\n",
      "Genres             object\n",
      "Last Updated       object\n",
      "Popularity        float64\n",
      "dtype: object\n"
     ]
    },
    {
     "data": {
      "image/png": "[encoded data removed]",
      "text/plain": [
       "<Figure size 720x720 with 2 Axes>"
      ]
     },
     "metadata": {
      "needs_background": "light"
     },
     "output_type": "display_data"
    }
   ],
   "source": [
    "import plotly.express as px\n",
    "import pandas as pd\n",
    "import matplotlib.pyplot as plt\n",
    "import seaborn as sns\n",
    "import warnings\n",
    "warnings.filterwarnings(\"ignore\")\n",
    "\n",
    "def load_dataset(data):\n",
    "    df = pd.read_csv(data)\n",
    "    df.drop_duplicates(inplace=True)\n",
    "    return df\n",
    "\n",
    "df = load_dataset('googleplaystore.csv')\n",
    "\n",
    "def print_summarize_dataset(df):\n",
    "    shapes = df.shape\n",
    "    first_lines = df.head(10)\n",
    "    statitsdic_df = df.describe()\n",
    "    return f\"its shape: {shapes}\\n\\nits 10 first lines: \\n{first_lines}\\n\\n\\nits statistical summary:\\n{statitsdic_df}\"\n",
    "\n",
    "print(print_summarize_dataset(df))\n",
    "\n",
    "def clean_dataset(dataset):\n",
    "    # dropping the duplicated apps from the data.\n",
    "    dataset.drop_duplicates(subset='App', inplace=True) \n",
    "    \n",
    "    # cleaning Installs\n",
    "    # removing free apps\n",
    "    # converting installs column to integer type.\n",
    "    dataset.Installs = dataset.Installs.str.replace('+', '').str.replace(',', '')\n",
    "    dataset = dataset[dataset['Installs'] != 'Free']\n",
    "    dataset.Installs = dataset.Installs.astype(int)\n",
    "    \n",
    "    # cleaning Size\n",
    "    # replacing 'Varies with device' sizes to 'NaN'.\n",
    "    # removing M from size items if the size was by megabytes.\n",
    "    # converting sizes column to float type.\n",
    "    dataset['Size'] = dataset['Size'].apply(lambda x: float(str(x).replace('k', '')) / 1000 if 'k' in str(x) else x) \n",
    "    dataset.Size = dataset.Size.str.replace('M', '').str.replace('Varies with device', 'NaN').str.replace(',', '').astype(float)\n",
    "\n",
    "    # cleaning Price \n",
    "    # removing $ sign from price items.\n",
    "    # converting prices column to float type.\n",
    "    dataset.Price = dataset.Price.str.replace('$', '').astype('float')\n",
    "\n",
    "    # cleaning Reviews\n",
    "    # converting installs column to integer type.\n",
    "    dataset['Reviews'] = dataset['Reviews'].astype('int')\n",
    "    \n",
    "    # normalizing\n",
    "    dataset['Popularity'] = (dataset.Rating * 10**7 * dataset.Reviews * 10**2 * dataset.Installs) / 10**18 \n",
    "    \n",
    "    # dropping needless columns.\n",
    "    dataset.drop(['Current Ver', 'Android Ver'], axis=1, inplace=True)\n",
    "    return dataset\n",
    "\n",
    "df2 = clean_dataset(df)\n",
    "print('The original state of the data')\n",
    "print(df.dtypes)\n",
    "\n",
    "print('Clear data status')\n",
    "print(df2.dtypes)\n",
    "\n",
    "def compute_correlations_matrix(dataset):\n",
    "    plt.figure(figsize=(10, 10))\n",
    "    sns.heatmap(dataset.corr(), annot=True, cmap=\"YlOrRd\", linewidths=0.1, annot_kws={\"fontsize\":10})\n",
    "    plt.title(\"Correlation Matrix of Google Play Store Apps\")\n",
    "    plt.show()\n",
    "\n",
    "compute_correlations_matrix(df2)\n"
   ]
  },
  {
   "cell_type": "code",
   "execution_count": 19,
   "id": "073a1f90",
   "metadata": {},
   "outputs": [
    {
     "name": "stdout",
     "output_type": "stream",
     "text": [
      "\n",
      "\u001b[94m\n",
      " ██████╗ ██╗    ██╗ █████╗ ███████╗ █████╗ ██████╗    ██╗ ██████╗ \n",
      "██╔═══██╗██║    ██║██╔══██╗██╔════╝██╔══██╗██╔══██╗   ██║██╔═══██╗\n",
      "██║   ██║██║ █╗ ██║███████║███████╗███████║██████╔╝   ██║██║   ██║\n",
      "██║▄▄ ██║██║███╗██║██╔══██║╚════██║██╔══██║██╔══██╗   ██║██║   ██║\n",
      "╚██████╔╝╚███╔███╔╝██║  ██║███████║██║  ██║██║  ██║██╗██║╚██████╔╝\n",
      " ╚══▀▀═╝  ╚══╝╚══╝ ╚═╝  ╚═╝╚══════╝╚═╝  ╚═╝╚═╝  ╚═╝╚═╝╚═╝ ╚═════╝ \n",
      "\t\t\t\t\t\t\t\t\t\t\t\t\t\t\t\t\t\t\t\t\t\t\t\t\t\t\t\t\t\t\t\t \u001b[0m\n",
      "Booting Gandalf v4.1.12-deab022 (production)\n",
      "Loading parameters:  \u001b[32mOK\u001b[0m\n",
      "User yunusov_f connection: \u001b[32mOK\u001b[0m\n",
      "\n",
      "\n",
      "<MY_MOBAPP_STUDIO>\n",
      "Directory . exists: \u001b[32mOK\u001b[0m\n",
      "Pushing exercise: \u001b[32mOK\u001b[0m\n",
      "Printing your report:\n",
      "\n",
      " \u001b[97;1;40m     REPORT      \u001b[0m  \u001b[97mMY MOBAPP STUDIO\u001b[0m \n",
      "\n",
      " Status             \u001b[92mSUCCESS\u001b[0m          \n",
      " Execution Runtime  4.248337         \n",
      " Score              [\u001b[32m=\u001b[0m\u001b[32m=\u001b[0m\u001b[32m=\u001b[0m\u001b[32m=\u001b[0m\u001b[32m=\u001b[0m\u001b[33m-\u001b[0m] 5/6     \n",
      "\n",
      "\n",
      "Checks detail Report:\n",
      "\n",
      " \u001b[97;1;40mTEST CLEAN DATASET\u001b[0m  \u001b[92mSUCCESS\u001b[0m \n",
      "\n",
      "\n",
      "\n",
      " \u001b[97;1;40mTEST COMPUTE CORRELATIONS MATRIX\u001b[0m  \u001b[92mSUCCESS\u001b[0m \n",
      "\n",
      "\n",
      "\n",
      " \u001b[97;1;40mTEST LOAD DATASET\u001b[0m  \u001b[92mSUCCESS\u001b[0m \n",
      "\n",
      "\n",
      "\n",
      " \u001b[97;1;40mTEST PRINT HISTOGRAMS\u001b[0m  \u001b[92mSUCCESS\u001b[0m \n",
      "\n",
      "\n",
      "\n",
      " \u001b[97;1;40mTEST PRINT SCATTER MATRIX\u001b[0m  \u001b[91m                               FAILURE                                \u001b[0m \n",
      "\n",
      " Input                                                                                             \n",
      " Expected Output            \"\"                                                                     \n",
      " Expected Return Value                                                                             \n",
      " Output                         def test_print_scatter_matrix(self):                               \n",
      "                                    self.assertTrue(callable(getattr(eg, 'print_scatter_matrix'))) \n",
      "                                                                                                   \n",
      " Return Value                                                                                      \n",
      "\n",
      "Your Stderr:\n",
      "module 'my_mobapp_studio' has no attribute 'print_scatter_matrix'\n",
      "\n",
      " \u001b[97;1;40mTEST PRINT SUMMARIZE DATASET\u001b[0m  \u001b[92mSUCCESS\u001b[0m \n",
      "\n",
      "\n",
      "</MY_MOBAPP_STUDIO>\n"
     ]
    }
   ],
   "source": [
    "!gandalf"
   ]
  },
  {
   "cell_type": "code",
   "execution_count": 20,
   "id": "bf22067a",
   "metadata": {},
   "outputs": [],
   "source": [
    "!git add .\n"
   ]
  },
  {
   "cell_type": "code",
   "execution_count": 21,
   "id": "d67f23ae",
   "metadata": {},
   "outputs": [
    {
     "name": "stdout",
     "output_type": "stream",
     "text": [
      "[dev 59c59a0] mobapppp\r\n",
      " 2 files changed, 456 insertions(+), 252 deletions(-)\r\n"
     ]
    }
   ],
   "source": [
    "!git commit -m\"mobapppp\""
   ]
  },
  {
   "cell_type": "code",
   "execution_count": 22,
   "id": "b9aedd62",
   "metadata": {},
   "outputs": [
    {
     "name": "stdout",
     "output_type": "stream",
     "text": [
      "Warning: Permanently added 'git.us.qwasar.io,35.202.192.39' (ECDSA) to the list of known hosts.\n",
      "Enumerating objects: 7, done.\n",
      "Counting objects: 100% (7/7), done.\n",
      "Delta compression using up to 4 threads\n",
      "Compressing objects: 100% (4/4), done.\n",
      "Writing objects: 100% (4/4), 29.45 KiB | 4.91 MiB/s, done.\n",
      "Total 4 (delta 3), reused 0 (delta 0)\n",
      "remote: . Processing 1 references\u001b[K\n",
      "remote: Processed 1 references in total\u001b[K\n",
      "To git.us.qwasar.io:my_mobapp_studio_140312_ove1wx/my_mobapp_studio.git\n",
      "   4be2913..59c59a0  dev -> dev\n"
     ]
    }
   ],
   "source": [
    "!git push"
   ]
  },
  {
   "cell_type": "code",
   "execution_count": null,
   "id": "a04c1b7d",
   "metadata": {},
   "outputs": [],
   "source": []
  }
 ],
 "metadata": {
  "kernelspec": {
   "display_name": "Python 3",
   "language": "python",
   "name": "python3"
  },
  "language_info": {
   "codemirror_mode": {
    "name": "ipython",
    "version": 3
   },
   "file_extension": ".py",
   "mimetype": "text/x-python",
   "name": "python",
   "nbconvert_exporter": "python",
   "pygments_lexer": "ipython3",
   "version": "3.6.7"
  }
 },
 "nbformat": 4,
 "nbformat_minor": 5
}
